{
 "cells": [
  {
   "cell_type": "markdown",
   "metadata": {},
   "source": [
    "# Notebook 2: HMM Training, Analysis, and Visualization\n",
    "\n",
    "**Objective:** Load the logged inference trajectories, train an HMM surrogate, analyze its learned states, and visualize its behavior on test reviews."
   ]
  },
  {
   "cell_type": "code",
   "execution_count": null,
   "metadata": {},
   "outputs": [],
   "source": [
    "import sys\n",
    "import os\n",
    "import numpy as np\n",
    "import matplotlib.pyplot as plt\n",
    "\n",
    "# Add src directory to Python path\n",
    "module_path = os.path.abspath(os.path.join('..'))\n",
    "if module_path not in sys.path:\n",
    "    sys.path.append(module_path)\n",
    "\n",
    "from src.config import (\n",
    "    LOG_FILE_PATH, HMM_MODEL_PATH, TARGET_SENTIMENT,\n",
    "    NUM_TEST_SAMPLES, MAX_TOKENS, MODEL_NAME, DEVICE\n",
    ")\n",
    "from src.hmm_surrogate import HMMSurrogate\n",
    "from src.data_utils import load_imdb_data, preprocess_data_for_inference_logging\n",
    "from src.black_box_model import BlackBoxSentimentClassifier, log_inference_trajectories\n",
    "from src.visualization_utils import plot_state_timeline, plot_hmm_transition_matrix, plot_avg_probabilities_per_state\n",
    "\n",
    "%matplotlib inline"
   ]
  },
  {
   "cell_type": "markdown",
   "metadata": {},
   "source": [
    "## 1. Load Logged Inference Trajectories"
   ]
  },
  {
   "cell_type": "code",
   "execution_count": null,
   "metadata": {},
   "outputs": [],
   "source": [
    "try:\n",
    "    loaded_data = np.load(LOG_FILE_PATH)\n",
    "    train_trajectories = [loaded_data[f'arr_{i}'] for i in range(len(loaded_data.files))]\n",
    "    print(f\"Loaded {len(train_trajectories)} trajectories from {LOG_FILE_PATH}.\")\n",
    "    if train_trajectories:\n",
    "        print(f\"Example trajectory 0 shape: {train_trajectories[0].shape}\")\n",
    "except FileNotFoundError:\n",
    "    print(f\"Error: Log file {LOG_FILE_PATH} not found. Please run Notebook 1 first.\")\n",
    "    train_trajectories = []"
   ]
  },
  {
   "cell_type": "markdown",
   "metadata": {},
   "source": [
    "## 2. Train HMM Surrogate"
   ]
  },
  {
   "cell_type": "code",
   "execution_count": null,
   "metadata": {},
   "outputs": [],
   "source": [
    "hmm_surrogate_model = None\n",
    "if train_trajectories:\n",
    "    hmm_surrogate_model = HMMSurrogate() # Uses N_HMM_STATES from config\n",
    "    hmm_surrogate_model.train(train_trajectories)\n",
    "    \n",
    "    # Save the trained HMM model\n",
    "    if not os.path.exists('models'):\n",
    "        os.makedirs('models')\n",
    "    hmm_surrogate_model.save_model(HMM_MODEL_PATH)\n",
    "else:\n",
    "    print(\"Skipping HMM training as no trajectories were loaded.\")"
   ]
  },
  {
   "cell_type": "markdown",
   "metadata": {},
   "source": [
    "## 3. Analyze HMM Parameters and States\n",
    "\n",
    "If you didn't just train, you can load a pre-trained HMM model."
   ]
  },
  {
   "cell_type": "code",
   "execution_count": null,
   "metadata": {},
   "outputs": [],
   "source": [
    "if hmm_surrogate_model is None or not hmm_surrogate_model.is_trained:\n",
    "    print(f\"Attempting to load pre-trained HMM from {HMM_MODEL_PATH}\")\n",
    "    try:\n",
    "        hmm_surrogate_model = HMMSurrogate()\n",
    "        hmm_surrogate_model.load_model(HMM_MODEL_PATH)\n",
    "    except FileNotFoundError:\n",
    "        print(f\"Error: Pre-trained HMM model not found at {HMM_MODEL_PATH}. Please train one first.\")\n",
    "        hmm_surrogate_model = None # Ensure it's None if loading fails\n",
    "\n",
    "state_analysis_results = None\n",
    "if hmm_surrogate_model and hmm_surrogate_model.is_trained and train_trajectories:\n",
    "    # For state analysis, we need decoded states for the training trajectories\n",
    "    decoded_train_states = [hmm_surrogate_model.decode_sequence(traj) for traj in train_trajectories if traj.shape[0] > 0]\n",
    "    \n",
    "    # Filter out empty sequences from train_trajectories if their decoded_train_states are empty\n",
    "    valid_train_trajectories = [traj for traj, states in zip(train_trajectories, decoded_train_states) if states.size > 0]\n",
    "    valid_decoded_train_states = [states for states in decoded_train_states if states.size > 0]\n",
    "\n",
    "    state_analysis_results = hmm_surrogate_model.analyze_states(\n",
    "        valid_train_trajectories, \n",
    "        valid_decoded_train_states, \n",
    "        target_class_idx=TARGET_SENTIMENT\n",
    "    )\n",
    "    \n",
    "    # Visualize HMM parameters\n",
    "    plot_hmm_transition_matrix(hmm_surrogate_model.model, state_names=state_analysis_results.get('state_names'))\n",
    "    plot_avg_probabilities_per_state(state_analysis_results, target_class_idx=TARGET_SENTIMENT)"
   ]
  },
  {
   "cell_type": "markdown",
   "metadata": {},
   "source": [
    "## 4. Visualize HMM Behavior on Test Reviews\n",
    "\n",
    "Load a few test reviews, get their black-box probability trajectories, decode HMM states, and plot."
   ]
  },
  {
   "cell_type": "code",
   "execution_count": null,
   "metadata": {},
   "outputs": [],
   "source": [
    "if hmm_surrogate_model and hmm_surrogate_model.is_trained and state_analysis_results:\n",
    "    print(\"\\n--- Visualizing HMM on Test Reviews ---\")\n",
    "    # Load black-box model for generating test trajectories\n",
    "    bb_model_vis = BlackBoxSentimentClassifier(model_name=MODEL_NAME, device=DEVICE)\n",
    "    tokenizer_vis = bb_model_vis.tokenizer\n",
    "\n",
    "    # Load some test data\n",
    "    imdb_test_raw = load_imdb_data(split='test', num_samples=NUM_TEST_SAMPLES, shuffle=False)\n",
    "    processed_test_data = preprocess_data_for_inference_logging(imdb_test_raw, tokenizer_vis)\n",
    "\n",
    "    # Get trajectories for test data\n",
    "    test_trajectories_vis = log_inference_trajectories(processed_test_data, bb_model_vis, max_len=MAX_TOKENS)\n",
    "    \n",
    "    # Get the actual tokens for each processed test sample (up to MAX_TOKENS)\n",
    "    test_tokens_vis = []\n",
    "    for item in processed_test_data:\n",
    "        # Ensure [CLS] is handled consistently if present\n",
    "        cls_token_id = tokenizer_vis.cls_token_id\n",
    "        actual_tokens = item['tokens']\n",
    "        if cls_token_id is not None and item['input_ids'][0] == cls_token_id:\n",
    "             # If CLS is already first, use tokens directly\n",
    "             pass # actual_tokens = item['tokens']\n",
    "        elif cls_token_id is not None:\n",
    "             # Prepend [CLS] token string if model adds ID but it's not in original 'tokens'\n",
    "             actual_tokens = [tokenizer_vis.cls_token] + item['tokens']\n",
    "        \n",
    "        test_tokens_vis.append(actual_tokens[:MAX_TOKENS])\n",
    "\n",
    "\n",
    "    for i, (prob_traj, tokens) in enumerate(zip(test_trajectories_vis, test_tokens_vis)):\n",
    "        if prob_traj.shape[0] == 0: continue # Skip empty trajectories\n",
    "\n",
    "        decoded_states_vis = hmm_surrogate_model.decode_sequence(prob_traj)\n",
    "        \n",
    "        # Ensure token list length matches trajectory length for plotting\n",
    "        # The trajectory length is min(len(original_tokens_with_cls), MAX_TOKENS)\n",
    "        # The `tokens` list should be sliced to match this length.\n",
    "        plot_tokens = tokens[:len(decoded_states_vis)]\n",
    "\n",
    "        print(f\"\\nVisualizing Test Sample {i+1}:\")\n",
    "        print(f\"Text: {processed_test_data[i]['text'][:200]}...\")\n",
    "        \n",
    "        plt.figure(figsize=(18, 6))\n",
    "        plot_state_timeline(\n",
    "            plot_tokens,\n",
    "            prob_traj,\n",
    "            decoded_states_vis,\n",
    "            state_names=state_analysis_results.get('state_names'),\n",
    "            target_class_idx=TARGET_SENTIMENT,\n",
    "            ax=plt.gca() # Pass current axes\n",
    "        )\n",
    "        plt.show()\n",
    "else:\n",
    "    print(\"Skipping visualization as HMM model is not available or not trained, or state analysis is missing.\")"
   ]
  }
 ],
 "metadata": {
  "kernelspec": {
   "display_name": "playground",
   "language": "python",
   "name": "python3"
  },
  "language_info": {
   "codemirror_mode": {
    "name": "ipython",
    "version": 3
   },
   "file_extension": ".py",
   "mimetype": "text/x-python",
   "name": "python",
   "nbconvert_exporter": "python",
   "pygments_lexer": "ipython3",
   "version": "3.10.16"
  }
 },
 "nbformat": 4,
 "nbformat_minor": 2
}
