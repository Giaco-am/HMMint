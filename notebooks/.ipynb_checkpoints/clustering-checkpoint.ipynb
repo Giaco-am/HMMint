{
 "cells": [
  {
   "cell_type": "markdown",
   "id": "15666df2",
   "metadata": {},
   "source": [
    "### Objective: retrieve the words corresponding to a state change as embeddings to see if they share some common features"
   ]
  },
  {
   "cell_type": "code",
   "execution_count": 1,
   "id": "2380af7a",
   "metadata": {},
   "outputs": [
    {
     "ename": "NameError",
     "evalue": "name 'os' is not defined",
     "output_type": "error",
     "traceback": [
      "\u001b[0;31m---------------------------------------------------------------------------\u001b[0m",
      "\u001b[0;31mNameError\u001b[0m                                 Traceback (most recent call last)",
      "Cell \u001b[0;32mIn[1], line 9\u001b[0m\n\u001b[1;32m      6\u001b[0m \u001b[38;5;28;01mimport\u001b[39;00m\u001b[38;5;250m \u001b[39m\u001b[38;5;21;01mmatplotlib\u001b[39;00m\u001b[38;5;21;01m.\u001b[39;00m\u001b[38;5;21;01mpyplot\u001b[39;00m\u001b[38;5;250m \u001b[39m\u001b[38;5;28;01mas\u001b[39;00m\u001b[38;5;250m \u001b[39m\u001b[38;5;21;01mplt\u001b[39;00m\n\u001b[1;32m      8\u001b[0m \u001b[38;5;66;03m# Add src directory to Python path\u001b[39;00m\n\u001b[0;32m----> 9\u001b[0m module_path \u001b[38;5;241m=\u001b[39m \u001b[43mos\u001b[49m\u001b[38;5;241m.\u001b[39mpath\u001b[38;5;241m.\u001b[39mabspath(os\u001b[38;5;241m.\u001b[39mpath\u001b[38;5;241m.\u001b[39mjoin(\u001b[38;5;124m'\u001b[39m\u001b[38;5;124m..\u001b[39m\u001b[38;5;124m'\u001b[39m))\n\u001b[1;32m     10\u001b[0m \u001b[38;5;28;01mif\u001b[39;00m module_path \u001b[38;5;129;01mnot\u001b[39;00m \u001b[38;5;129;01min\u001b[39;00m sys\u001b[38;5;241m.\u001b[39mpath:\n\u001b[1;32m     11\u001b[0m     sys\u001b[38;5;241m.\u001b[39mpath\u001b[38;5;241m.\u001b[39mappend(module_path)\n",
      "\u001b[0;31mNameError\u001b[0m: name 'os' is not defined"
     ]
    }
   ],
   "source": [
    "# --- Step 1: Load and print color transitions ---\n",
    "import pickle\n",
    "import numpy as np\n",
    "import os\n",
    "from sklearn.cluster import KMeans\n",
    "from sklearn.decomposition import PCA\n",
    "import matplotlib.pyplot as plt\n",
    "\n",
    "# Add src directory to Python path\n",
    "module_path = os.path.abspath(os.path.join('..'))\n",
    "if module_path not in sys.path:\n",
    "    sys.path.append(module_path)\n",
    "\n",
    "from src.config import MODEL_NAME\n",
    "\n",
    "# Load the log\n",
    "with open(\"data/clustering/color_transitions_log.pkl\", \"rb\") as f:\n",
    "    color_log = pickle.load(f)\n",
    "\n",
    "print(f\"Loaded {len(color_log)} samples\\n\")\n",
    "\n",
    "# --- Print a few sample entries ---\n",
    "NUM_TO_PRINT = 5\n",
    "\n",
    "for i, entry in enumerate(color_log[:NUM_TO_PRINT]):\n",
    "    print(f\"Sample {i + 1}\")\n",
    "    print(\"Tokens:\", ' '.join(entry[\"tokens\"]))\n",
    "    print(\"Transitions:\", entry[\"transitions\"])\n",
    "    print(\"States:\", entry[\"states\"])\n",
    "    print(\"-\" * 50)"
   ]
  },
  {
   "cell_type": "code",
   "execution_count": null,
   "id": "d6670147",
   "metadata": {},
   "outputs": [],
   "source": [
    "# At each transition index, get the token at that index\n",
    "transition_tokens = []\n",
    "\n",
    "for entry in color_log:\n",
    "    tokens = entry[\"tokens\"]\n",
    "    transitions = entry[\"transitions\"]  # e.g. [(0,3), (3,6), (6,8)]\n",
    "\n",
    "    # transitions is a list of (start, end) ranges\n",
    "    # we care about the *start index* of each segment after the first\n",
    "    for start_idx, _ in transitions[1:]:  # skip the first\n",
    "        if start_idx < len(tokens):\n",
    "            transition_tokens.append(tokens[start_idx])\n"
   ]
  },
  {
   "cell_type": "code",
   "execution_count": null,
   "id": "7451630c",
   "metadata": {},
   "outputs": [],
   "source": [
    "from transformers import AutoTokenizer, AutoModel\n",
    "import torch\n",
    "\n",
    "# Load pretrained model (any good BERT variant)\n",
    "model_name = MODEL_NAME\n",
    "tok = AutoTokenizer.from_pretrained(model_name)\n",
    "bert = AutoModel.from_pretrained(model_name)\n",
    "bert.eval()\n",
    "\n",
    "# Deduplicate words and get their embeddings\n",
    "unique_tokens = list(set(transition_tokens))\n",
    "print(f\"Unique transition tokens: {len(unique_tokens)}\")\n",
    "\n",
    "def embed_token(token):\n",
    "    with torch.no_grad():\n",
    "        inputs = tok(token, return_tensors=\"pt\")\n",
    "        outputs = bert(**inputs)\n",
    "        cls_embedding = outputs.last_hidden_state[:, 0, :]  # [CLS] token\n",
    "        return cls_embedding.squeeze().numpy()\n",
    "\n",
    "embedding_matrix = np.array([embed_token(tok) for tok in unique_tokens])\n"
   ]
  },
  {
   "cell_type": "code",
   "execution_count": null,
   "id": "96db617e",
   "metadata": {},
   "outputs": [],
   "source": [
    "import plotly.express as pxa\n",
    "import pandas as pd\n",
    "from sklearn.cluster import KMeans\n",
    "from sklearn.decomposition import PCA\n",
    "import plotly.io as pio\n",
    "\n",
    "# Try these one at a time depending on your setup\n",
    "# Best for Jupyter Lab / VSCode\n",
    "pio.renderers.default = \"iframe_connected\""
   ]
  },
  {
   "cell_type": "markdown",
   "id": "d4ecb0e7",
   "metadata": {},
   "source": [
    "# K-Means clustering"
   ]
  },
  {
   "cell_type": "code",
   "execution_count": null,
   "id": "8012ac74",
   "metadata": {},
   "outputs": [],
   "source": [
    "# --- Clustering ---\n",
    "n_clusters = 4\n",
    "kmeans = KMeans(n_clusters=n_clusters, random_state=42)\n",
    "labels = kmeans.fit_predict(embedding_matrix)\n",
    "\n",
    "# --- Dimensionality reduction ---\n",
    "X_pca = PCA(n_components=2).fit_transform(embedding_matrix)\n",
    "\n",
    "# --- Prepare DataFrame for Plotly ---\n",
    "df = pd.DataFrame({\n",
    "    \"Token\": unique_tokens,\n",
    "    \"Cluster\": labels,\n",
    "    \"PCA1\": X_pca[:, 0],\n",
    "    \"PCA2\": X_pca[:, 1],\n",
    "})\n",
    "\n",
    "# --- Interactive plot ---\n",
    "fig = pxa.scatter(\n",
    "    df,\n",
    "    x=\"PCA1\",\n",
    "    y=\"PCA2\",\n",
    "    color=\"Cluster\",\n",
    "    hover_data=[\"Token\"],\n",
    "    title=\"K-Means Clustering of Transition Tokens (BERT Embeddings)\",\n",
    "    labels={\"PCA1\": \"Component 1\", \"PCA2\": \"Component 2\"}\n",
    ")\n",
    "\n",
    "fig.update_traces(marker=dict(size=6), selector=dict(mode='markers'))\n",
    "fig.update_layout(showlegend=True)\n",
    "fig.show()\n"
   ]
  },
  {
   "cell_type": "markdown",
   "id": "a7f1ba7f",
   "metadata": {},
   "source": [
    "# UMAP"
   ]
  },
  {
   "cell_type": "code",
   "execution_count": null,
   "id": "c3b4a357",
   "metadata": {},
   "outputs": [],
   "source": [
    "! pip install umap-learn"
   ]
  },
  {
   "cell_type": "code",
   "execution_count": null,
   "id": "4174fd3a",
   "metadata": {},
   "outputs": [],
   "source": [
    "import umap\n",
    "import plotly.express as px\n",
    "\n",
    "# --- UMAP for dimensionality reduction ---\n",
    "umap_model = umap.UMAP(n_neighbors=15, min_dist=0.1, metric='cosine', random_state=42)\n",
    "X_umap = umap_model.fit_transform(embedding_matrix)\n",
    "\n",
    "# --- Reuse clustering labels (from KMeans or hierarchical) ---\n",
    "df_umap = pd.DataFrame({\n",
    "    \"Token\": unique_tokens,\n",
    "    \"Cluster\": labels,  # reuse or replace with new clustering results\n",
    "    \"UMAP1\": X_umap[:, 0],\n",
    "    \"UMAP2\": X_umap[:, 1],\n",
    "})\n",
    "\n",
    "# --- Plot with Plotly ---\n",
    "fig = px.scatter(\n",
    "    df_umap,\n",
    "    x=\"UMAP1\",\n",
    "    y=\"UMAP2\",\n",
    "    color=df_umap[\"Cluster\"].astype(str),\n",
    "    hover_name=\"Token\",\n",
    "    title=\"UMAP Projection of Transition Tokens\",\n",
    "    labels={\"UMAP1\": \"UMAP-1\", \"UMAP2\": \"UMAP-2\"}\n",
    ")\n",
    "fig.update_traces(marker=dict(size=7, opacity=0.8))\n",
    "fig.update_layout(margin=dict(l=20, r=20, t=40, b=20), hovermode='closest')\n",
    "fig.show()\n"
   ]
  },
  {
   "cell_type": "markdown",
   "id": "0e3cb159",
   "metadata": {},
   "source": [
    "# Hierarchical clustering"
   ]
  },
  {
   "cell_type": "code",
   "execution_count": null,
   "id": "803b9c27",
   "metadata": {},
   "outputs": [],
   "source": [
    "from scipy.cluster.hierarchy import linkage, fcluster, dendrogram\n",
    "from sklearn.preprocessing import normalize\n",
    "\n",
    "# --- Compute linkage matrix ---\n",
    "Z = linkage(embedding_matrix, method='ward')  # or try 'average', 'complete', 'single'\n",
    "\n",
    "# --- Decide on number of clusters ---\n",
    "n_clusters_h = 4\n",
    "labels_hierarchical = fcluster(Z, t=n_clusters_h, criterion='maxclust')\n",
    "\n",
    "# Optional: plot dendrogram (can be slow for many points)\n",
    "import matplotlib.pyplot as plt\n",
    "plt.figure(figsize=(12, 4))\n",
    "dendrogram(Z, truncate_mode='level', p=10, labels=unique_tokens)\n",
    "plt.title(\"Hierarchical Clustering Dendrogram (Top 10 Levels)\")\n",
    "plt.tight_layout()\n",
    "plt.show()\n",
    "\n",
    "# --- Use UMAP for 2D layout ---\n",
    "X_umap_h = umap.UMAP(n_neighbors=15, min_dist=0.1, metric='cosine', random_state=42).fit_transform(embedding_matrix)\n",
    "\n",
    "# --- Plot interactive clusters ---\n",
    "df_hier = pd.DataFrame({\n",
    "    \"Token\": unique_tokens,\n",
    "    \"Cluster\": labels_hierarchical,\n",
    "    \"UMAP1\": X_umap_h[:, 0],\n",
    "    \"UMAP2\": X_umap_h[:, 1],\n",
    "})\n",
    "\n",
    "fig = px.scatter(\n",
    "    df_hier,\n",
    "    x=\"UMAP1\",\n",
    "    y=\"UMAP2\",\n",
    "    color=df_hier[\"Cluster\"].astype(str),\n",
    "    hover_name=\"Token\",\n",
    "    title=\"Hierarchical Clustering (UMAP layout)\",\n",
    "    labels={\"UMAP1\": \"UMAP-1\", \"UMAP2\": \"UMAP-2\"}\n",
    ")\n",
    "fig.update_traces(marker=dict(size=7, opacity=0.8))\n",
    "fig.update_layout(margin=dict(l=20, r=20, t=40, b=20), hovermode='closest')\n",
    "fig.show()\n"
   ]
  },
  {
   "cell_type": "markdown",
   "id": "b6f50f3b",
   "metadata": {},
   "source": [
    "Description: there seem to be 2 distinct clusters at least, one with adjectives and one with adverbs. These are grouped together by hierarchical clustering. "
   ]
  }
 ],
 "metadata": {
  "kernelspec": {
   "display_name": "Python (pmlproj)",
   "language": "python",
   "name": "pmlproj"
  },
  "language_info": {
   "codemirror_mode": {
    "name": "ipython",
    "version": 3
   },
   "file_extension": ".py",
   "mimetype": "text/x-python",
   "name": "python",
   "nbconvert_exporter": "python",
   "pygments_lexer": "ipython3",
   "version": "3.10.0"
  }
 },
 "nbformat": 4,
 "nbformat_minor": 5
}
