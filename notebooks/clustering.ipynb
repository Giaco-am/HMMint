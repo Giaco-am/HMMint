{
 "cells": [
  {
   "cell_type": "markdown",
   "id": "15666df2",
   "metadata": {},
   "source": [
    "### Objective: retrieve the words corresponding to a state change as embeddings to see if they share some common features"
   ]
  },
  {
   "cell_type": "code",
   "execution_count": 22,
   "id": "2380af7a",
   "metadata": {},
   "outputs": [
    {
     "name": "stdout",
     "output_type": "stream",
     "text": [
      "Loaded 20 samples\n",
      "\n",
      "Sample 1\n",
      "Tokens: [CLS] i love sci - fi and am willing to put up with a lot . sci - fi movies / tv are usually under ##fu ##nded , under - appreciated and misunderstood . i tried to like this , i really did , but it is to good tv sci - fi as babylon 5 is to star trek ( the original ) . silly pro ##st ##hetic ##s , cheap cardboard sets , stil ##ted dialogues , c ##g that doesn ' t match the background , and painfully one - dimensional characters cannot be overcome with a\n",
      "Transitions: [(0, 1), (1, 5), (5, 35), (35, 44), (44, 65), (65, 85), (85, 100)]\n",
      "States: [np.int64(1), np.int64(3), np.int64(2), np.int64(3), np.int64(2), np.int64(3), np.int64(0)]\n",
      "--------------------------------------------------\n",
      "Sample 2\n",
      "Tokens: [CLS] worth the entertainment value of a rental , especially if you like action movies . this one features the usual car chases , fights with the great van dam ##me kick style , shooting battles with the 40 shell load shotgun , and even terrorist style bombs . all of this is entertaining and competent ##ly handled but there is nothing that really blows you away if you ' ve seen your share before . < br / > < br / > the plot is made interesting by the inclusion of a rabbit , which is clever but\n",
      "Transitions: [(0, 1), (1, 2), (2, 7), (7, 9), (9, 47), (47, 53), (53, 100)]\n",
      "States: [np.int64(1), np.int64(3), np.int64(2), np.int64(3), np.int64(2), np.int64(3), np.int64(2)]\n",
      "--------------------------------------------------\n",
      "Sample 3\n",
      "Tokens: [CLS] its a totally average film with a few semi - alright action sequences that make the plot seem a little better and remind the viewer of the classic van dam films . parts of the plot don ' t make sense and seem to be added in to use up time . the end plot is that of a very basic type that doesn ' t leave the viewer guessing and any twists are obvious from the beginning . the end scene with the fl ##ask backs don ' t make sense as they are added in and seem\n",
      "Transitions: [(0, 1), (1, 41), (41, 100)]\n",
      "States: [np.int64(1), np.int64(3), np.int64(0)]\n",
      "--------------------------------------------------\n",
      "Sample 4\n",
      "Tokens: [CLS] star rating : * * * * * saturday night * * * * friday night * * * friday morning * * sunday night * monday morning < br / > < br / > former new orleans homicide cop jack rob ##ide ##aux ( jean claude van dam ##me ) is re - assigned to columbus , a small but violent town in mexico to help the police there with their efforts to stop a major heroin smuggling operation into their town . the cu ##lp ##rit ##s turn out to be ex - military , lead\n",
      "Transitions: [(0, 1), (1, 100)]\n",
      "States: [np.int64(1), np.int64(3)]\n",
      "--------------------------------------------------\n",
      "Sample 5\n",
      "Tokens: [CLS] first off let me say , if you haven ' t enjoyed a van dam ##me movie since blood ##sport , you probably will not like this movie . most of these movies may not have the best plots or best actors but i enjoy these kinds of movies for what they are . this movie is much better than any of the movies the other action guys ( sega ##l and do ##lp ##h ) have thought about putting out the past few years . van dam ##me is good in the movie , the movie is only\n",
      "Transitions: [(0, 1), (1, 46), (46, 100)]\n",
      "States: [np.int64(1), np.int64(3), np.int64(2)]\n",
      "--------------------------------------------------\n"
     ]
    }
   ],
   "source": [
    "# --- Step 1: Load and print color transitions ---\n",
    "import pickle\n",
    "import numpy as np\n",
    "import os\n",
    "import sys\n",
    "from sklearn.cluster import KMeans\n",
    "from sklearn.decomposition import PCA\n",
    "import matplotlib.pyplot as plt\n",
    "\n",
    "# Add src directory to Python path\n",
    "module_path = os.path.abspath(os.path.join('..'))\n",
    "if module_path not in sys.path:\n",
    "    sys.path.append(module_path)\n",
    "\n",
    "from src.config import MODEL_NAME\n",
    "\n",
    "# Load the log\n",
    "with open(\"data/clustering/color_transitions_log.pkl\", \"rb\") as f:\n",
    "    color_log = pickle.load(f)\n",
    "\n",
    "print(f\"Loaded {len(color_log)} samples\\n\")\n",
    "\n",
    "# --- Print a few sample entries ---\n",
    "NUM_TO_PRINT = 5\n",
    "\n",
    "for i, entry in enumerate(color_log[:NUM_TO_PRINT]):\n",
    "    print(f\"Sample {i + 1}\")\n",
    "    print(\"Tokens:\", ' '.join(entry[\"tokens\"]))\n",
    "    print(\"Transitions:\", entry[\"transitions\"])\n",
    "    print(\"States:\", entry[\"states\"])\n",
    "    print(\"-\" * 50)"
   ]
  },
  {
   "cell_type": "code",
   "execution_count": 23,
   "id": "d6670147",
   "metadata": {},
   "outputs": [],
   "source": [
    "# At each transition index, get the token at that index\n",
    "transition_tokens = []\n",
    "\n",
    "for entry in color_log:\n",
    "    tokens = entry[\"tokens\"]\n",
    "    transitions = entry[\"transitions\"]  # e.g. [(0,3), (3,6), (6,8)]\n",
    "\n",
    "    # transitions is a list of (start, end) ranges\n",
    "    # we care about the *start index* of each segment after the first\n",
    "    for start_idx, _ in transitions[1:]:  # skip the first\n",
    "        if start_idx < len(tokens):\n",
    "            transition_tokens.append(tokens[start_idx])\n"
   ]
  },
  {
   "cell_type": "code",
   "execution_count": 24,
   "id": "7451630c",
   "metadata": {},
   "outputs": [
    {
     "name": "stdout",
     "output_type": "stream",
     "text": [
      "Unique transition tokens: 47\n"
     ]
    }
   ],
   "source": [
    "from transformers import AutoTokenizer, AutoModel\n",
    "import torch\n",
    "\n",
    "# Load pretrained model (any good BERT variant)\n",
    "model_name = MODEL_NAME\n",
    "tok = AutoTokenizer.from_pretrained(model_name)\n",
    "bert = AutoModel.from_pretrained(model_name)\n",
    "bert.eval()\n",
    "\n",
    "# Deduplicate words and get their embeddings\n",
    "unique_tokens = list(set(transition_tokens))\n",
    "print(f\"Unique transition tokens: {len(unique_tokens)}\")\n",
    "\n",
    "def embed_token(token):\n",
    "    with torch.no_grad():\n",
    "        inputs = tok(token, return_tensors=\"pt\")\n",
    "        outputs = bert(**inputs)\n",
    "        cls_embedding = outputs.last_hidden_state[:, 0, :]  # [CLS] token\n",
    "        return cls_embedding.squeeze().numpy()\n",
    "\n",
    "embedding_matrix = np.array([embed_token(tok) for tok in unique_tokens])\n"
   ]
  },
  {
   "cell_type": "code",
   "execution_count": 25,
   "id": "96db617e",
   "metadata": {},
   "outputs": [],
   "source": [
    "import plotly.express as pxa\n",
    "import pandas as pd\n",
    "from sklearn.cluster import KMeans\n",
    "from sklearn.decomposition import PCA\n",
    "import plotly.io as pio\n",
    "\n",
    "# Try these one at a time depending on your setup\n",
    "# Best for Jupyter Lab / VSCode\n",
    "pio.renderers.default = \"iframe_connected\""
   ]
  },
  {
   "cell_type": "markdown",
   "id": "d4ecb0e7",
   "metadata": {},
   "source": [
    "# K-Means clustering"
   ]
  },
  {
   "cell_type": "code",
   "execution_count": 26,
   "id": "8012ac74",
   "metadata": {},
   "outputs": [
    {
     "name": "stdout",
     "output_type": "stream",
     "text": [
      "Explained variance by Component 1: 0.3762 (37.62%)\n",
      "Explained variance by Component 2: 0.2170 (21.70%)\n",
      "Total explained variance by plotted components: 0.5932 (59.32%)\n"
     ]
    },
    {
     "data": {
      "text/html": [
       "<iframe\n",
       "    scrolling=\"no\"\n",
       "    width=\"100%\"\n",
       "    height=\"545px\"\n",
       "    src=\"iframe_figures/figure_26.html\"\n",
       "    frameborder=\"0\"\n",
       "    allowfullscreen\n",
       "></iframe>\n"
      ]
     },
     "metadata": {},
     "output_type": "display_data"
    }
   ],
   "source": [
    "# --- Clustering ---\n",
    "n_clusters = 4\n",
    "kmeans = KMeans(n_clusters=n_clusters, random_state=42)\n",
    "labels = kmeans.fit_predict(embedding_matrix)\n",
    "\n",
    "# --- Dimensionality reduction ---\n",
    "pca = PCA(n_components=2)\n",
    "X_pca = pca.fit_transform(embedding_matrix)\n",
    "\n",
    "# Calculate explained variance\n",
    "explained_variance_ratio = pca.explained_variance_ratio_\n",
    "explained_variance_sum = explained_variance_ratio.sum()\n",
    "\n",
    "# Print explained variance information\n",
    "print(f\"Explained variance by Component 1: {explained_variance_ratio[0]:.4f} ({explained_variance_ratio[0]*100:.2f}%)\")\n",
    "print(f\"Explained variance by Component 2: {explained_variance_ratio[1]:.4f} ({explained_variance_ratio[1]*100:.2f}%)\")\n",
    "print(f\"Total explained variance by plotted components: {explained_variance_sum:.4f} ({explained_variance_sum*100:.2f}%)\")\n",
    "\n",
    "# --- Prepare DataFrame for Plotly ---\n",
    "df = pd.DataFrame({\n",
    "    \"Token\": unique_tokens,\n",
    "    \"Cluster\": labels,\n",
    "    \"PCA1\": X_pca[:, 0],\n",
    "    \"PCA2\": X_pca[:, 1],\n",
    "})\n",
    "\n",
    "# --- Interactive plot ---\n",
    "fig = pxa.scatter(\n",
    "    df,\n",
    "    x=\"PCA1\",\n",
    "    y=\"PCA2\",\n",
    "    color=\"Cluster\",\n",
    "    hover_data=[\"Token\"],\n",
    "    title=\"K-Means Clustering of Transition Tokens (BERT Embeddings)\",\n",
    "    labels={\"PCA1\": \"Component 1\", \"PCA2\": \"Component 2\"}\n",
    ")\n",
    "\n",
    "fig.update_traces(marker=dict(size=6), selector=dict(mode='markers'))\n",
    "fig.update_layout(showlegend=True)\n",
    "fig.show()\n",
    "fig.write_html(\"KMEANS.html\")\n"
   ]
  },
  {
   "cell_type": "markdown",
   "id": "a7f1ba7f",
   "metadata": {},
   "source": [
    "# UMAP"
   ]
  },
  {
   "cell_type": "code",
   "execution_count": 27,
   "id": "99c044d6",
   "metadata": {},
   "outputs": [
    {
     "name": "stderr",
     "output_type": "stream",
     "text": [
      "huggingface/tokenizers: The current process just got forked, after parallelism has already been used. Disabling parallelism to avoid deadlocks...\n",
      "To disable this warning, you can either:\n",
      "\t- Avoid using `tokenizers` before the fork if possible\n",
      "\t- Explicitly set the environment variable TOKENIZERS_PARALLELISM=(true | false)\n"
     ]
    },
    {
     "name": "stdout",
     "output_type": "stream",
     "text": [
      "Requirement already satisfied: umap-learn in /home/giovanni/miniconda3/lib/python3.12/site-packages (0.5.7)\n",
      "Requirement already satisfied: numpy>=1.17 in /home/giovanni/miniconda3/lib/python3.12/site-packages (from umap-learn) (1.26.4)\n",
      "Requirement already satisfied: scipy>=1.3.1 in /home/giovanni/miniconda3/lib/python3.12/site-packages (from umap-learn) (1.13.1)\n",
      "Requirement already satisfied: scikit-learn>=0.22 in /home/giovanni/miniconda3/lib/python3.12/site-packages (from umap-learn) (1.6.1)\n",
      "Requirement already satisfied: numba>=0.51.2 in /home/giovanni/miniconda3/lib/python3.12/site-packages (from umap-learn) (0.61.2)\n",
      "Requirement already satisfied: pynndescent>=0.5 in /home/giovanni/miniconda3/lib/python3.12/site-packages (from umap-learn) (0.5.13)\n",
      "Requirement already satisfied: tqdm in /home/giovanni/miniconda3/lib/python3.12/site-packages (from umap-learn) (4.67.1)\n",
      "Requirement already satisfied: llvmlite<0.45,>=0.44.0dev0 in /home/giovanni/miniconda3/lib/python3.12/site-packages (from numba>=0.51.2->umap-learn) (0.44.0)\n",
      "Requirement already satisfied: joblib>=0.11 in /home/giovanni/miniconda3/lib/python3.12/site-packages (from pynndescent>=0.5->umap-learn) (1.4.2)\n",
      "Requirement already satisfied: threadpoolctl>=3.1.0 in /home/giovanni/miniconda3/lib/python3.12/site-packages (from scikit-learn>=0.22->umap-learn) (3.5.0)\n"
     ]
    }
   ],
   "source": [
    "! pip install umap-learn"
   ]
  },
  {
   "cell_type": "code",
   "execution_count": 28,
   "id": "4174fd3a",
   "metadata": {},
   "outputs": [
    {
     "name": "stderr",
     "output_type": "stream",
     "text": [
      "/home/giovanni/miniconda3/envs/pmlproj/lib/python3.10/site-packages/sklearn/utils/deprecation.py:151: FutureWarning:\n",
      "\n",
      "'force_all_finite' was renamed to 'ensure_all_finite' in 1.6 and will be removed in 1.8.\n",
      "\n",
      "/home/giovanni/miniconda3/envs/pmlproj/lib/python3.10/site-packages/umap/umap_.py:1952: UserWarning:\n",
      "\n",
      "n_jobs value 1 overridden to 1 by setting random_state. Use no seed for parallelism.\n",
      "\n"
     ]
    },
    {
     "data": {
      "text/html": [
       "<iframe\n",
       "    scrolling=\"no\"\n",
       "    width=\"100%\"\n",
       "    height=\"545px\"\n",
       "    src=\"iframe_figures/figure_28.html\"\n",
       "    frameborder=\"0\"\n",
       "    allowfullscreen\n",
       "></iframe>\n"
      ]
     },
     "metadata": {},
     "output_type": "display_data"
    }
   ],
   "source": [
    "import umap\n",
    "import plotly.express as px\n",
    "\n",
    "# --- UMAP for dimensionality reduction ---\n",
    "umap_model = umap.UMAP(n_neighbors=15, min_dist=0.1, metric='cosine', random_state=42)\n",
    "X_umap = umap_model.fit_transform(embedding_matrix)\n",
    "\n",
    "# --- Reuse clustering labels (from KMeans or hierarchical) ---\n",
    "df_umap = pd.DataFrame({\n",
    "    \"Token\": unique_tokens,\n",
    "    \"Cluster\": labels,  # reuse or replace with new clustering results\n",
    "    \"UMAP1\": X_umap[:, 0],\n",
    "    \"UMAP2\": X_umap[:, 1],\n",
    "})\n",
    "\n",
    "# --- Plot with Plotly ---\n",
    "fig = px.scatter(\n",
    "    df_umap,\n",
    "    x=\"UMAP1\",\n",
    "    y=\"UMAP2\",\n",
    "    color=df_umap[\"Cluster\"].astype(str),\n",
    "    hover_name=\"Token\",\n",
    "    title=\"UMAP Projection of Transition Tokens\",\n",
    "    labels={\"UMAP1\": \"UMAP-1\", \"UMAP2\": \"UMAP-2\"}\n",
    ")\n",
    "fig.update_traces(marker=dict(size=7, opacity=0.8))\n",
    "fig.update_layout(margin=dict(l=20, r=20, t=40, b=20), hovermode='closest')\n",
    "fig.show()\n"
   ]
  },
  {
   "cell_type": "markdown",
   "id": "0e3cb159",
   "metadata": {},
   "source": [
    "# Hierarchical clustering"
   ]
  },
  {
   "cell_type": "code",
   "execution_count": 29,
   "id": "803b9c27",
   "metadata": {},
   "outputs": [
    {
     "data": {
      "image/png": "[encoded data removed]",
      "text/plain": [
       "<Figure size 1200x400 with 1 Axes>"
      ]
     },
     "metadata": {},
     "output_type": "display_data"
    },
    {
     "name": "stderr",
     "output_type": "stream",
     "text": [
      "/home/giovanni/miniconda3/envs/pmlproj/lib/python3.10/site-packages/sklearn/utils/deprecation.py:151: FutureWarning:\n",
      "\n",
      "'force_all_finite' was renamed to 'ensure_all_finite' in 1.6 and will be removed in 1.8.\n",
      "\n",
      "/home/giovanni/miniconda3/envs/pmlproj/lib/python3.10/site-packages/umap/umap_.py:1952: UserWarning:\n",
      "\n",
      "n_jobs value 1 overridden to 1 by setting random_state. Use no seed for parallelism.\n",
      "\n"
     ]
    },
    {
     "data": {
      "text/html": [
       "<iframe\n",
       "    scrolling=\"no\"\n",
       "    width=\"100%\"\n",
       "    height=\"545px\"\n",
       "    src=\"iframe_figures/figure_29.html\"\n",
       "    frameborder=\"0\"\n",
       "    allowfullscreen\n",
       "></iframe>\n"
      ]
     },
     "metadata": {},
     "output_type": "display_data"
    }
   ],
   "source": [
    "from scipy.cluster.hierarchy import linkage, fcluster, dendrogram\n",
    "from sklearn.preprocessing import normalize\n",
    "\n",
    "# --- Compute linkage matrix ---\n",
    "Z = linkage(embedding_matrix, method='ward')  # or try 'average', 'complete', 'single'\n",
    "\n",
    "# --- Decide on number of clusters ---\n",
    "n_clusters_h = 4\n",
    "labels_hierarchical = fcluster(Z, t=n_clusters_h, criterion='maxclust')\n",
    "\n",
    "# Optional: plot dendrogram (can be slow for many points)\n",
    "import matplotlib.pyplot as plt\n",
    "plt.figure(figsize=(12, 4))\n",
    "dendrogram(Z, truncate_mode='level', p=10, labels=unique_tokens)\n",
    "plt.title(\"Hierarchical Clustering Dendrogram (Top 10 Levels)\")\n",
    "plt.tight_layout()\n",
    "plt.show()\n",
    "\n",
    "# --- Use UMAP for 2D layout ---\n",
    "X_umap_h = umap.UMAP(n_neighbors=15, min_dist=0.1, metric='cosine', random_state=42).fit_transform(embedding_matrix)\n",
    "\n",
    "# --- Plot interactive clusters ---\n",
    "df_hier = pd.DataFrame({\n",
    "    \"Token\": unique_tokens,\n",
    "    \"Cluster\": labels_hierarchical,\n",
    "    \"UMAP1\": X_umap_h[:, 0],\n",
    "    \"UMAP2\": X_umap_h[:, 1],\n",
    "})\n",
    "\n",
    "fig = px.scatter(\n",
    "    df_hier,\n",
    "    x=\"UMAP1\",\n",
    "    y=\"UMAP2\",\n",
    "    color=df_hier[\"Cluster\"].astype(str),\n",
    "    hover_name=\"Token\",\n",
    "    title=\"Hierarchical Clustering (UMAP layout)\",\n",
    "    labels={\"UMAP1\": \"UMAP-1\", \"UMAP2\": \"UMAP-2\"}\n",
    ")\n",
    "fig.update_traces(marker=dict(size=7, opacity=0.8))\n",
    "fig.update_layout(margin=dict(l=20, r=20, t=40, b=20), hovermode='closest')\n",
    "fig.show()\n"
   ]
  },
  {
   "cell_type": "markdown",
   "id": "b6f50f3b",
   "metadata": {},
   "source": [
    "Description: there seem to be 2 distinct clusters at least, one with adjectives and one with adverbs. These are grouped together by hierarchical clustering. "
   ]
  }
 ],
 "metadata": {
  "kernelspec": {
   "display_name": "Python (pmlproj)",
   "language": "python",
   "name": "pmlproj"
  },
  "language_info": {
   "codemirror_mode": {
    "name": "ipython",
    "version": 3
   },
   "file_extension": ".py",
   "mimetype": "text/x-python",
   "name": "python",
   "nbconvert_exporter": "python",
   "pygments_lexer": "ipython3",
   "version": "3.10.0"
  }
 },
 "nbformat": 4,
 "nbformat_minor": 5
}
